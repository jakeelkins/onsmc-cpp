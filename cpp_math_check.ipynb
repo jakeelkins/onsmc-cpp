{
 "cells": [
  {
   "cell_type": "code",
   "execution_count": 14,
   "id": "c8ec9d93",
   "metadata": {},
   "outputs": [],
   "source": [
    "import numpy as np"
   ]
  },
  {
   "cell_type": "code",
   "execution_count": 15,
   "id": "8087ab67",
   "metadata": {},
   "outputs": [],
   "source": [
    "V = np.array([\n",
    "[-0.3210, -0.5136, 0.4281, 0.3826],\n",
    "[-0.3387, -0.1573, 0.4834, 0.5536],\n",
    "[-0.0134, -0.4736, 0.1290, -0.1192]\n",
    "])\n",
    "\n",
    "W = np.array([\n",
    "    [0.2659],\n",
    "    [-0.1459],\n",
    "    [0.0184],\n",
    "    [-0.0134],\n",
    "])"
   ]
  },
  {
   "cell_type": "code",
   "execution_count": 16,
   "id": "5ef0668a",
   "metadata": {},
   "outputs": [],
   "source": [
    "x = np.array([\n",
    "    [0.],\n",
    "    [0.],\n",
    "    [1.0]\n",
    "])"
   ]
  },
  {
   "cell_type": "code",
   "execution_count": 17,
   "id": "cb201ca4",
   "metadata": {},
   "outputs": [],
   "source": [
    "def sigma_x(x):\n",
    "    s_x = 1/(1 + np.exp(-x))\n",
    "    return s_x"
   ]
  },
  {
   "cell_type": "code",
   "execution_count": 18,
   "id": "e8044836",
   "metadata": {},
   "outputs": [],
   "source": [
    "s_x = sigma_x(V.transpose()@x)"
   ]
  },
  {
   "cell_type": "code",
   "execution_count": 19,
   "id": "d6b704e8",
   "metadata": {},
   "outputs": [],
   "source": [
    "s_x[0,0] = 1."
   ]
  },
  {
   "cell_type": "code",
   "execution_count": 20,
   "id": "6ace4da8",
   "metadata": {},
   "outputs": [
    {
     "data": {
      "text/plain": [
       "(4, 1)"
      ]
     },
     "execution_count": 20,
     "metadata": {},
     "output_type": "execute_result"
    }
   ],
   "source": [
    "s_x.shape"
   ]
  },
  {
   "cell_type": "code",
   "execution_count": 21,
   "id": "7af2171f",
   "metadata": {},
   "outputs": [
    {
     "data": {
      "text/plain": [
       "(4, 1)"
      ]
     },
     "execution_count": 21,
     "metadata": {},
     "output_type": "execute_result"
    }
   ],
   "source": [
    "W.shape"
   ]
  },
  {
   "cell_type": "code",
   "execution_count": 22,
   "id": "564a3e37",
   "metadata": {},
   "outputs": [
    {
     "data": {
      "text/plain": [
       "array([[0.21340018]])"
      ]
     },
     "execution_count": 22,
     "metadata": {},
     "output_type": "execute_result"
    }
   ],
   "source": [
    "W.transpose()@s_x"
   ]
  },
  {
   "cell_type": "code",
   "execution_count": null,
   "id": "e436e4f9",
   "metadata": {},
   "outputs": [],
   "source": []
  },
  {
   "cell_type": "code",
   "execution_count": 23,
   "id": "e839dcd5",
   "metadata": {},
   "outputs": [],
   "source": [
    "hidden_dim = 10"
   ]
  },
  {
   "cell_type": "code",
   "execution_count": 25,
   "id": "1e9b5d7f",
   "metadata": {},
   "outputs": [],
   "source": [
    "F = np.zeros((hidden_dim*hidden_dim,))"
   ]
  },
  {
   "cell_type": "code",
   "execution_count": 26,
   "id": "7a057036",
   "metadata": {},
   "outputs": [],
   "source": [
    "for i in range(hidden_dim):\n",
    "    for j in range(hidden_dim):\n",
    "        if i == j:\n",
    "            F[hidden_dim*i + j] = 10."
   ]
  },
  {
   "cell_type": "code",
   "execution_count": 28,
   "id": "4f55b820",
   "metadata": {},
   "outputs": [
    {
     "data": {
      "text/plain": [
       "array([[10.,  0.,  0.,  0.,  0.,  0.,  0.,  0.,  0.,  0.],\n",
       "       [ 0., 10.,  0.,  0.,  0.,  0.,  0.,  0.,  0.,  0.],\n",
       "       [ 0.,  0., 10.,  0.,  0.,  0.,  0.,  0.,  0.,  0.],\n",
       "       [ 0.,  0.,  0., 10.,  0.,  0.,  0.,  0.,  0.,  0.],\n",
       "       [ 0.,  0.,  0.,  0., 10.,  0.,  0.,  0.,  0.,  0.],\n",
       "       [ 0.,  0.,  0.,  0.,  0., 10.,  0.,  0.,  0.,  0.],\n",
       "       [ 0.,  0.,  0.,  0.,  0.,  0., 10.,  0.,  0.,  0.],\n",
       "       [ 0.,  0.,  0.,  0.,  0.,  0.,  0., 10.,  0.,  0.],\n",
       "       [ 0.,  0.,  0.,  0.,  0.,  0.,  0.,  0., 10.,  0.],\n",
       "       [ 0.,  0.,  0.,  0.,  0.,  0.,  0.,  0.,  0., 10.]])"
      ]
     },
     "execution_count": 28,
     "metadata": {},
     "output_type": "execute_result"
    }
   ],
   "source": [
    "F.reshape((hidden_dim, hidden_dim))"
   ]
  },
  {
   "cell_type": "code",
   "execution_count": null,
   "id": "9bac8423",
   "metadata": {},
   "outputs": [],
   "source": []
  }
 ],
 "metadata": {
  "kernelspec": {
   "display_name": "Python 3 (ipykernel)",
   "language": "python",
   "name": "python3"
  },
  "language_info": {
   "codemirror_mode": {
    "name": "ipython",
    "version": 3
   },
   "file_extension": ".py",
   "mimetype": "text/x-python",
   "name": "python",
   "nbconvert_exporter": "python",
   "pygments_lexer": "ipython3",
   "version": "3.9.7"
  }
 },
 "nbformat": 4,
 "nbformat_minor": 5
}
